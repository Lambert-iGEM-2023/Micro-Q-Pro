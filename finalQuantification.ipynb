{
 "cells": [
  {
   "cell_type": "code",
   "execution_count": null,
   "metadata": {},
   "outputs": [],
   "source": [
    "#PREREQUISITS\n",
    "\n",
    "import cv2\n",
    "import numpy as np \n",
    "import matplotlib.pyplot as plt\n",
    "\n",
    "# Simple image displaying function\n",
    "def show(img, label=None):\n",
    "    plt.figure(figsize=(20,20))\n",
    "    if len(img.shape) == 2:  # Grayscale image\n",
    "        plt.imshow(img, cmap='gray')\n",
    "    else:  # Color image\n",
    "        plt.imshow(cv2.cvtColor(img, cv2.COLOR_BGR2RGB))\n",
    "    if label is not None:\n",
    "        plt.title(label)\n",
    "    plt.show()\n",
    "\n",
    "# Crop function\n",
    "def crop_image(img, x, y, w, h):\n",
    "  crop = img[y:y+h, x:x+w]\n",
    "  return crop"
   ]
  },
  {
   "cell_type": "code",
   "execution_count": null,
   "metadata": {},
   "outputs": [],
   "source": [
    "#Load images\n",
    "# before = cv2.imread('images/.png') \n",
    "# after = cv2.imread('images/.png')\n",
    "\n",
    "# ADD YOUR CROPPED IMAGE HERE AND RUN ALL CELLS\n",
    "img = cv2.imread('images/---------.png')"
   ]
  },
  {
   "cell_type": "code",
   "execution_count": null,
   "metadata": {},
   "outputs": [],
   "source": [
    "# PREPROCESS IMAGE\n",
    "\n",
    "# This block of code is responsible for preprocessing the input image to make it suitable for further analysis. \n",
    "# The preprocessing steps include applying a median blur to reduce noise, converting the image to grayscale for easier processing, \n",
    "# and applying Otsu's thresholding twice to segment the image into regions of interest. \n",
    "# The result of these operations is a binary image where the regions of interest are highlighted.\n",
    "\n",
    "medianBlur = cv2.medianBlur(img, 11)\n",
    "gray = cv2.cvtColor(medianBlur, cv2.COLOR_BGR2GRAY)\n",
    "thresh, mask = cv2.threshold(gray, 0, 255, cv2.THRESH_OTSU)\n",
    "masked = cv2.bitwise_and(gray, gray, mask=mask)\n",
    "thresh, mask2 = cv2.threshold(masked, 0, 255, cv2.THRESH_OTSU)\n",
    "inverse_mask2 = cv2.bitwise_not(mask2)\n",
    "inverse_masked = cv2.bitwise_and(gray, gray, mask=mask2)\n",
    "show(inverse_masked, \"Preprocessed Image\")"
   ]
  },
  {
   "cell_type": "code",
   "execution_count": null,
   "metadata": {},
   "outputs": [],
   "source": [
    "# QUANTIFY IMAGE\n",
    "\n",
    "# This block of code is responsible for quantifying the features of interest in the preprocessed image. \n",
    "# It first identifies contours in the image, then filters out small contours based on a minimum area threshold. \n",
    "# For each remaining contour, it creates a mask and applies it to the original image, \n",
    "# then calculates the mean and median pixel values within the masked region. \n",
    "# These values are used to calculate a \"Linearized RFU Value\" for each contour, which is printed out.\n",
    "\n",
    "contours, _ = cv2.findContours(inverse_masked, cv2.RETR_EXTERNAL, cv2.CHAIN_APPROX_SIMPLE)\n",
    "min_contour_area = 0\n",
    "filtered_contours = [cnt for cnt in contours if cv2.contourArea(cnt) > min_contour_area]\n",
    "output = masked.copy()\n",
    "cv2.drawContours(output, filtered_contours, -1, (255, 0, 0), 1)\n",
    "show(output, \"Filtered Contours\")\n",
    "\n",
    "for i, cnt in enumerate(filtered_contours):\n",
    "    mask = np.zeros_like(gray)\n",
    "    cv2.drawContours(mask, [cnt], -1, (255), thickness=cv2.FILLED)\n",
    "    masked = cv2.bitwise_and(gray, gray, mask=mask)\n",
    "    pixels = masked.flatten()\n",
    "    pixels = pixels[pixels != 0]\n",
    "    thresh, mask = cv2.threshold(pixels, 0, 255, cv2.THRESH_OTSU)\n",
    "    _, realMask = cv2.threshold(masked, thresh, 255, cv2.THRESH_BINARY)\n",
    "    contours, _ = cv2.findContours(realMask, cv2.RETR_EXTERNAL, cv2.CHAIN_APPROX_SIMPLE)\n",
    "\n",
    "    if contours:\n",
    "        largest_contour = max(contours, key=cv2.contourArea)\n",
    "        largest_contour_mask = np.zeros_like(gray)\n",
    "        cv2.drawContours(largest_contour_mask, [largest_contour], -1, (255), thickness=cv2.FILLED)\n",
    "        masked = cv2.bitwise_and(gray, gray, mask=largest_contour_mask)\n",
    "        show(masked, \"final Mask\")\n",
    "        \n",
    "        pixels = masked.flatten()\n",
    "        pixels = pixels[pixels != 0]\n",
    "        mean_pixels = np.mean(pixels)\n",
    "        median_pixels = np.median(pixels)\n",
    "\n",
    "        print(f\"Mean of non-zero pixels tube {i+1}: {mean_pixels}\")\n",
    "        print(f\"Linearized RFU Value {i+1}: {1.52*10^(-26) * mean_pixels^(13.1)}\")"
   ]
  }
 ],
 "metadata": {
  "language_info": {
   "name": "python"
  },
  "orig_nbformat": 4
 },
 "nbformat": 4,
 "nbformat_minor": 2
}
